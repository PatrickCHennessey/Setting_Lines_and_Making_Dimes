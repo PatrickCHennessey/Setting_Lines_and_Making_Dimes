{
 "cells": [
  {
   "cell_type": "code",
   "execution_count": 1,
   "id": "approved-rocket",
   "metadata": {},
   "outputs": [],
   "source": [
    "# Import packages\n",
    "from urllib.request import urlopen\n",
    "from bs4 import BeautifulSoup\n",
    "import pandas as pd\n",
    "# following library will all;ow us to scrape height, weight, import re"
   ]
  },
  {
   "cell_type": "code",
   "execution_count": null,
   "id": "amazing-mitchell",
   "metadata": {},
   "outputs": [],
   "source": [
    "# NBA season we will be analyzing\n",
    "year = 2021\n",
    "\n",
    "# URL page(s) we're going to look to scrape \n",
    "\n",
    "# Totals\n",
    "# url = \"https://www.basketball-reference.com/leagues/NBA_2021_totals.html\".format(2021)\n",
    "\n",
    "# **Per Game** game = + course of full 45 minutes\n",
    "# url = \"https://www.basketball-reference.com/leagues/NBA_2021_per_game.html\".format(2021)\n",
    "\n",
    "# **Per 36 minutes** = + takes into account rest during game\n",
    "# url = \"https://www.basketball-reference.com/leagues/NBA_2021_per_minute.html\".format(2021)\n",
    "\n",
    "# Per 100\n",
    "# url = \"https://www.basketball-reference.com/leagues/NBA_2021_per_poss.html\".format(2021)\n",
    "\n",
    "# **Advanced** = + complex metrics developed in last few years\n",
    "# url = \"https://www.basketball-reference.com/leagues/NBA_2021_advanced.html\".format(2021)\n",
    "\n",
    "# Play-By-Play\n",
    "# url = \"https://www.basketball-reference.com/leagues/NBA_2021_play-by-play.html\".format(2021)\n",
    "\n",
    "# Shooting\n",
    "# url = \"https://www.basketball-reference.com/leagues/NBA_2021_shooting.html\".format(2021)\n",
    "\n",
    "# Adjusted Shooting\n",
    "# url = \"https://www.basketball-reference.com/leagues/NBA_2021_adj_shooting.html\".format(2021)\n",
    "\n",
    "\n",
    "url = # One of above url's\n",
    "\n",
    "# Note from Patrick: Stopped here"
   ]
  },
  {
   "cell_type": "code",
   "execution_count": null,
   "id": "further-supervision",
   "metadata": {},
   "outputs": [],
   "source": [
    "# this is the HTML from the given URL\n",
    "html = urlopen(url)\n",
    "soup = BeautifulSoup(html)"
   ]
  },
  {
   "cell_type": "code",
   "execution_count": null,
   "id": "twelve-clear",
   "metadata": {},
   "outputs": [],
   "source": [
    "# use findALL() to get the column headers\n",
    "soup.findAll('tr', limit=2)\n",
    "# use getText()to extract the text we need into a list\n",
    "headers = [th.getText() for th in soup.findAll('tr', limit=2)[0].findAll('th')]\n",
    "# exclude the first column as we will not need the ranking order from Basketball Reference for the analysis\n",
    "headers = headers[1:]\n",
    "headers"
   ]
  },
  {
   "cell_type": "code",
   "execution_count": null,
   "id": "romantic-miller",
   "metadata": {},
   "outputs": [],
   "source": [
    "# avoid the first header row\n",
    "rows = soup.findAll('tr')[1:]\n",
    "player_stats = [[td.getText() for td in rows[i].findAll('td')]\n",
    "            for i in range(len(rows))]"
   ]
  },
  {
   "cell_type": "code",
   "execution_count": null,
   "id": "informative-robert",
   "metadata": {},
   "outputs": [],
   "source": [
    "stats = pd.DataFrame(player_stats, columns = headers)\n",
    "stats.head(10)"
   ]
  }
 ],
 "metadata": {
  "kernelspec": {
   "display_name": "Python 3",
   "language": "python",
   "name": "python3"
  },
  "language_info": {
   "codemirror_mode": {
    "name": "ipython",
    "version": 3
   },
   "file_extension": ".py",
   "mimetype": "text/x-python",
   "name": "python",
   "nbconvert_exporter": "python",
   "pygments_lexer": "ipython3",
   "version": "3.7.6"
  }
 },
 "nbformat": 4,
 "nbformat_minor": 5
}
