{
 "cells": [
  {
   "cell_type": "code",
   "execution_count": 1,
   "id": "corporate-converter",
   "metadata": {},
   "outputs": [],
   "source": [
    "# Import packages\n",
    "from urllib.request import urlopen\n",
    "from bs4 import BeautifulSoup\n",
    "import pandas as pd"
   ]
  },
  {
   "cell_type": "code",
   "execution_count": null,
   "id": "contained-purse",
   "metadata": {},
   "outputs": [],
   "source": [
    "# NBA season we will be analyzing\n",
    "year = 2021\n",
    "\n",
    "# URL page(s) we're going to look to scrape \n",
    "\n",
    "# Totals\n",
    "# url = \"https://www.basketball-reference.com/leagues/NBA_2021_totals.html\".format(2021)\n",
    "\n",
    "# **Per Game** game = + course of full 45 minutes\n",
    "# url = \"https://www.basketball-reference.com/leagues/NBA_2021_per_game.html\".format(2021)\n",
    "\n",
    "# **Per 36 minutes** = + takes into account rest during game\n",
    "# url = \"https://www.basketball-reference.com/leagues/NBA_2021_per_minute.html\".format(2021)\n",
    "\n",
    "# Per 100\n",
    "# url = \"https://www.basketball-reference.com/leagues/NBA_2021_per_poss.html\".format(2021)\n",
    "\n",
    "# **Advanced** = + complex metrics developed in last few years\n",
    "# url = \"https://www.basketball-reference.com/leagues/NBA_2021_advanced.html\".format(2021)\n",
    "\n",
    "# Play-By-Play\n",
    "# url = \"https://www.basketball-reference.com/leagues/NBA_2021_play-by-play.html\".format(2021)\n",
    "\n",
    "# Shooting\n",
    "# url = \"https://www.basketball-reference.com/leagues/NBA_2021_shooting.html\".format(2021)\n",
    "\n",
    "# Adjusted Shooting\n",
    "# url = \"https://www.basketball-reference.com/leagues/NBA_2021_adj_shooting.html\".format(2021)\n",
    "\n",
    "\n",
    "url = # One of above url's\n",
    "\n",
    "# this is the HTML from the given URL\n",
    "html = urlopen(url)\n",
    "soup = BeautifulSoup(html)"
   ]
  }
 ],
 "metadata": {
  "kernelspec": {
   "display_name": "Python 3",
   "language": "python",
   "name": "python3"
  },
  "language_info": {
   "codemirror_mode": {
    "name": "ipython",
    "version": 3
   },
   "file_extension": ".py",
   "mimetype": "text/x-python",
   "name": "python",
   "nbconvert_exporter": "python",
   "pygments_lexer": "ipython3",
   "version": "3.7.6"
  }
 },
 "nbformat": 4,
 "nbformat_minor": 5
}
